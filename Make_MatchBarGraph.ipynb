{
 "cells": [
  {
   "cell_type": "code",
   "execution_count": 1,
   "id": "9f3a89a6",
   "metadata": {},
   "outputs": [
    {
     "ename": "NameError",
     "evalue": "name 'blob' is not defined",
     "output_type": "error",
     "traceback": [
      "\u001b[0;31m---------------------------------------------------------------------------\u001b[0m",
      "\u001b[0;31mNameError\u001b[0m                                 Traceback (most recent call last)",
      "\u001b[0;32m<ipython-input-1-025f32b7027e>\u001b[0m in \u001b[0;36m<module>\u001b[0;34m\u001b[0m\n\u001b[1;32m     13\u001b[0m \u001b[0mCATEGORY\u001b[0m \u001b[0;34m=\u001b[0m \u001b[0;36m1\u001b[0m\u001b[0;34m\u001b[0m\u001b[0;34m\u001b[0m\u001b[0m\n\u001b[1;32m     14\u001b[0m \u001b[0;34m\u001b[0m\u001b[0m\n\u001b[0;32m---> 15\u001b[0;31m \u001b[0mmatches_file\u001b[0m \u001b[0;34m=\u001b[0m \u001b[0mblob\u001b[0m\u001b[0;34m(\u001b[0m\u001b[0;34mf'match_result-J{CATEGORY}*.csv'\u001b[0m\u001b[0;34m)\u001b[0m\u001b[0;34m\u001b[0m\u001b[0;34m\u001b[0m\u001b[0m\n\u001b[0m\u001b[1;32m     16\u001b[0m \u001b[0mall_matches\u001b[0m \u001b[0;34m=\u001b[0m \u001b[0mread_allmatches_csv\u001b[0m\u001b[0;34m(\u001b[0m\u001b[0mmatches_file\u001b[0m\u001b[0;34m[\u001b[0m\u001b[0;36m0\u001b[0m\u001b[0;34m]\u001b[0m\u001b[0;34m)\u001b[0m\u001b[0;34m\u001b[0m\u001b[0;34m\u001b[0m\u001b[0m\n\u001b[1;32m     17\u001b[0m \u001b[0;34m\u001b[0m\u001b[0m\n",
      "\u001b[0;31mNameError\u001b[0m: name 'blob' is not defined"
     ]
    }
   ],
   "source": [
    "from IPython.display import HTML\n",
    "from make_match_bar_graph import make_bar_graph_html, read_allmatches_csv\n",
    "import pandas as pd\n",
    "from glob import glob\n",
    "\n",
    "# チーム列の並べ方 ('point': 最新の勝ち点順, 'avlbl_pt': 現時点の最大勝ち点=残り全部勝ったとしての勝ち点)\n",
    "TEAM_SORT_KEY = 'avlbl_pt'\n",
    "#TEAM_SORT_KEY = 'point'\n",
    "\n",
    "# 各チームの勝ち点の表で、古い日程を下にしたい時はTrue\n",
    "OLD_BOTTOM = True\n",
    "\n",
    "CATEGORY = 1\n",
    "\n",
    "matches_file = glob(f'match_result-J{CATEGORY}*.csv')\n",
    "all_matches = read_allmatches_csv(matches_file[0])\n",
    "\n",
    "all_matches"
   ]
  },
  {
   "cell_type": "code",
   "execution_count": null,
   "id": "5feca0b4",
   "metadata": {},
   "outputs": [],
   "source": [
    "html_result = make_bar_graph_html(all_matches, CATEGORY, TEAM_SORT_KEY, OLD_BOTTOM)\n",
    "\n",
    "HTML(html_result)"
   ]
  },
  {
   "cell_type": "code",
   "execution_count": null,
   "id": "df1ea4f0",
   "metadata": {},
   "outputs": [],
   "source": []
  }
 ],
 "metadata": {
  "kernelspec": {
   "display_name": "Python 3",
   "language": "python",
   "name": "python3"
  },
  "language_info": {
   "codemirror_mode": {
    "name": "ipython",
    "version": 3
   },
   "file_extension": ".py",
   "mimetype": "text/x-python",
   "name": "python",
   "nbconvert_exporter": "python",
   "pygments_lexer": "ipython3",
   "version": "3.8.5"
  }
 },
 "nbformat": 4,
 "nbformat_minor": 5
}
